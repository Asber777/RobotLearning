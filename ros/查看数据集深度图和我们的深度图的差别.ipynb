{
 "cells": [
  {
   "cell_type": "code",
   "execution_count": 6,
   "metadata": {},
   "outputs": [
    {
     "name": "stdout",
     "output_type": "stream",
     "text": [
      "../lmdb_source_data/\n"
     ]
    }
   ],
   "source": [
    "import numpy as np\n",
    "import pandas as pd\n",
    "from PIL import Image\n",
    "import matplotlib.pyplot as plt\n",
    "import os\n",
    "#********数据集的设置********\n",
    "root ='../lmdb_source_data/'#数据集的地址\n",
    "print(root)\n",
    "\n",
    "txt = root+'depth2_list2.txt'#depth2_list2，有1100个数据 depth2_list，有1104个数据\n",
    "x,y=[],[]\n",
    "fh = open(txt,'r')\n",
    "for line in fh: \n",
    "    line = line.strip('\\n')\n",
    "    line = line.rstrip('\\n')\n",
    "    words = line.split()\n",
    "    x.append(words[0])\n",
    "    y.append(int(words[1]))"
   ]
  },
  {
   "cell_type": "code",
   "execution_count": 28,
   "metadata": {},
   "outputs": [
    {
     "data": {
      "image/png": "[encoded data removed]",
      "text/plain": [
       "<Figure size 432x288 with 1 Axes>"
      ]
     },
     "metadata": {
      "needs_background": "light"
     },
     "output_type": "display_data"
    },
    {
     "name": "stdout",
     "output_type": "stream",
     "text": [
      "[[143 144 145 144 142 142 143 143   0  84  84  79  81  82  76  78  77  76\n",
      "   76  75]\n",
      " [144 144 144 143 143 144 143 143  72  87  84  81  83  73  79  78  77  77\n",
      "   76  75]\n",
      " [145 144 142 142 144 145 143 141 109  83  85  82  80  79  80  76  77  77\n",
      "   76  75]\n",
      " [142 143 140 143 145 139 144 143  34  90  79  81  82  77  78  77  77  77\n",
      "   76  75]\n",
      " [145 140 143 145 140 146 146 139 141  62  83  82  80  82  73  78  77  77\n",
      "   76  75]\n",
      " [131 136 137 142 144 142 141 143 104  87  85  79  81  78  77  77  77  77\n",
      "   76  75]\n",
      " [131 135 131 134 143 145 145 106  45  80  80  84  79  83  77  77  77  76\n",
      "   76  75]\n",
      " [132 130 135 132  69   0   0   0   1  89  85  79  80  76  80  78  77  76\n",
      "   76  75]\n",
      " [131 133 128 133   0   2   1   0   0  80  83  81  80  80  79  75  76  76\n",
      "   76  75]\n",
      " [134 131 134 132   0   0   1   0   2  85  84  83  75  82  80  77  76  76\n",
      "   75  75]\n",
      " [132 133 128 135   0   0   1   0   0  83  80  81  82  77  77  78  76  76\n",
      "   75  75]\n",
      " [133 132 130 132  72   0   2   0   0  84  84  82  80  80  77  78  76  76\n",
      "   75  74]\n",
      " [134 132 131 130 126   1   1   0   1  81  83  80  78  78  78  78  76  76\n",
      "   75  74]\n",
      " [130 131 130 129   4   0   4   0   2  81  83  80  79  78  79  77  76  76\n",
      "   75  74]\n",
      " [131 126 129 129   0   0   0   0   0  85  82  81  81  78  78  76  76  76\n",
      "   76  74]\n",
      " [131 127 129 129   1   1   0   0   0  88  81  81  80  78  77  75  76  76\n",
      "   76  74]\n",
      " [130 132 130 130   1   0   0   1   0  82  81  81  79  78  77  77  76  76\n",
      "   76  74]\n",
      " [133 132 129 131 104   2   0   0   1  63  82  80  79  79  77  77  76  76\n",
      "   76  74]\n",
      " [132 130 127 135  31   0   3   0   0  43  82  80  78  80  76  75  76  76\n",
      "   75  74]\n",
      " [131 129 126 134   0   0   2   0   1  40  85  81  78  77  80  75  76  76\n",
      "   75  75]\n",
      " [130 130 132 133  70   0   1   0   0  64  79  78  82  76  76  80  76  76\n",
      "   75  74]\n",
      " [127 128 130 132   0   1   0   1   0  42  80  81  78  79  76  74  76  75\n",
      "   75  74]\n",
      " [133 127 127 130   2   0   1   0   0  61  81  80  79  74  78  77  76  75\n",
      "   75  74]\n",
      " [125 128 129 125   1   1  41   0   0  84  84  79  76  82  74  74  76  75\n",
      "   75  74]\n",
      " [129 129 127 126 102  75 153   1   0  81  83  80  80  76  77  79  75  75\n",
      "   75  74]\n",
      " [125 134 125 127 133 133 134   0   0  26  76  81  79  76  77  74  75  75\n",
      "   74  74]\n",
      " [123 118  63  62  91 122  32   0   1   0   3  18  60  78  79  76  74  74\n",
      "   74  74]\n",
      " [112 109  26   1  28 113 112   0   0   0   0   1   0   1   0   2   0   0\n",
      "    2   0]\n",
      " [ 95  97  94  95  47  68  99  92   0   1   1   0   0   0   1   0   2   0\n",
      "    0   0]\n",
      " [ 91  83  87  85  89  87  88  91  86   2   0   2   0   2   0   2   0   4\n",
      "    1   0]\n",
      " [ 79  82  82  80  80  82  79  78  79  81  59  79  59   0   1   0  41  54\n",
      "   75  34]\n",
      " [ 79  76  74  80  75  76  78  76  78  74  77  75  71  75  71  75  71  76\n",
      "   76  72]\n",
      " [ 66  70  72  65  75  69  67  75  71  69  70  74  68  71  70  69  70  66\n",
      "   69  69]\n",
      " [ 71  67  64  68  66  68  62  64  65  66  65  66  66  67  66  65  66  67\n",
      "   64  72]\n",
      " [ 61  64  65  60  63  58  68  61  61  62  66  59  62  63  62  64  62  65\n",
      "   63  56]]\n"
     ]
    }
   ],
   "source": [
    "import cv2\n",
    "img = cv2.imread(root + 'depth2/' +x[0],-1)\n",
    "plt.imshow(img[45:80,80:100])#[50:100,:40]\n",
    "plt.show()\n",
    "print img[45:80,80:100]"
   ]
  },
  {
   "cell_type": "markdown",
   "metadata": {},
   "source": [
    "结果显示 距离越近 数值越小 颜色越黑\n",
    "反之    距离越远 数值越大 颜色越亮"
   ]
  },
  {
   "cell_type": "code",
   "execution_count": 26,
   "metadata": {},
   "outputs": [
    {
     "name": "stdout",
     "output_type": "stream",
     "text": [
      "251 0\n"
     ]
    }
   ],
   "source": [
    "max_ = 0\n",
    "min_ = 0\n",
    "for x_ in x:\n",
    "    img = cv2.imread(root + 'depth2/' +x_,-1)\n",
    "    if img.max() >= max_:\n",
    "        max_ = img.max()\n",
    "print max_,min_"
   ]
  },
  {
   "cell_type": "markdown",
   "metadata": {},
   "source": [
    "tensor([[nan, nan, nan, nan, nan]], grad_fn=<ReluBackward1>)\n",
    "tensor([[[[   nan,    nan,    nan,  ..., 1.3549, 1.3500, 1.3452],\n",
    "          [1.3404, 1.3357, 1.3310,  ...,    nan,    nan,    nan],\n",
    "          [   nan,    nan,    nan,  ...,    nan,    nan,    nan],\n",
    "          ...,\n",
    "          [   nan,    nan,    nan,  ...,    nan,    nan,    nan],\n",
    "          [   nan,    nan,    nan,  ...,    nan,    nan,    nan],\n",
    "          [   nan,    nan,    nan,  ...,    nan,    nan,    nan]]]])\n",
    "tensor([[nan, nan, nan, nan, nan]], grad_fn=<ReluBackward1>)\n",
    "tensor([[[[   nan,    nan,    nan,  ..., 1.3551, 1.3503, 1.3455],\n",
    "          [1.3407, 1.3359, 1.3312,  ...,    nan,    nan,    nan],\n",
    "          [   nan,    nan,    nan,  ...,    nan,    nan,    nan],\n",
    "          ...,\n",
    "          [   nan,    nan,    nan,  ...,    nan,    nan,    nan],\n",
    "          [   nan,    nan,    nan,  ...,    nan,    nan,    nan],\n",
    "          [   nan,    nan,    nan,  ...,    nan,    nan,    nan]]]])\n",
    "tensor([[nan, nan, nan, nan, nan]], grad_fn=<ReluBackward1>)\n",
    "tensor([[[[   nan,    nan,    nan,  ..., 1.3547, 1.3499, 1.3451],\n",
    "          [1.3403, 1.3356, 1.3309,  ...,    nan,    nan,    nan],\n",
    "          [   nan,    nan,    nan,  ...,    nan,    nan,    nan],\n",
    "          ...,\n",
    "          [   nan,    nan,    nan,  ...,    nan,    nan,    nan],\n",
    "          [   nan,    nan,    nan,  ...,    nan,    nan,    nan],\n",
    "          [   nan,    nan,    nan,  ...,    nan,    nan,    nan]]]])\n",
    "tensor([[nan, nan, nan, nan, nan]], grad_fn=<ReluBackward1>)\n",
    "tensor([[[[   nan,    nan,    nan,  ..., 1.3553, 1.3504, 1.3456],\n",
    "          [1.3408, 1.3361, 1.3314,  ...,    nan,    nan,    nan],\n",
    "          [   nan,    nan,    nan,  ...,    nan,    nan,    nan],\n",
    "          ...,\n",
    "          [   nan,    nan,    nan,  ...,    nan,    nan,    nan],\n",
    "          [   nan,    nan,    nan,  ...,    nan,    nan,    nan],\n",
    "          [   nan,    nan,    nan,  ...,    nan,    nan,    nan]]]])\n",
    "tensor([[nan, nan, nan, nan, nan]], grad_fn=<ReluBackward1>)\n",
    "tensor([[[[   nan,    nan,    nan,  ..., 1.3544, 1.3495, 1.3447],\n",
    "          [1.3400, 1.3352, 1.3305,  ...,    nan,    nan,    nan],\n",
    "          [   nan,    nan,    nan,  ...,    nan,    nan,    nan],\n",
    "          ...,\n",
    "          [   nan,    nan,    nan,  ...,    nan,    nan,    nan],\n",
    "          [   nan,    nan,    nan,  ...,    nan,    nan,    nan],\n",
    "          [   nan,    nan,    nan,  ...,    nan,    nan,    nan]]]])\n",
    "tensor([[nan, nan, nan, nan, nan]], grad_fn=<ReluBackward1>)\n",
    "tensor([[[[   nan,    nan,    nan,  ..., 1.3547, 1.3498, 1.3450],\n",
    "          [1.3402, 1.3355, 1.3308,  ...,    nan,    nan,    nan],\n",
    "          [   nan,    nan,    nan,  ...,    nan,    nan,    nan],\n",
    "          ...,\n",
    "          [   nan,    nan,    nan,  ...,    nan,    nan,    nan],\n",
    "          [   nan,    nan,    nan,  ...,    nan,    nan,    nan],\n",
    "          [   nan,    nan,    nan,  ...,    nan,    nan,    nan]]]])\n",
    "tensor([[nan, nan, nan, nan, nan]], grad_fn=<ReluBackward1>)\n",
    "tensor([[[[   nan,    nan,    nan,  ..., 1.3550, 1.3501, 1.3453],\n",
    "          [1.3405, 1.3358, 1.3311,  ...,    nan,    nan,    nan],\n",
    "          [   nan,    nan,    nan,  ...,    nan,    nan,    nan],\n",
    "          ...,\n",
    "          [   nan,    nan,    nan,  ...,    nan,    nan,    nan],\n",
    "          [   nan,    nan,    nan,  ...,    nan,    nan,    nan],\n",
    "          [   nan,    nan,    nan,  ...,    nan,    nan,    nan]]]])\n"
   ]
  }
 ],
 "metadata": {
  "kernelspec": {
   "display_name": "Python 2",
   "language": "python",
   "name": "python2"
  },
  "language_info": {
   "codemirror_mode": {
    "name": "ipython",
    "version": 2
   },
   "file_extension": ".py",
   "mimetype": "text/x-python",
   "name": "python",
   "nbconvert_exporter": "python",
   "pygments_lexer": "ipython2",
   "version": "2.7.16"
  }
 },
 "nbformat": 4,
 "nbformat_minor": 2
}
