{
 "cells": [
  {
   "cell_type": "code",
   "execution_count": 6,
   "metadata": {},
   "outputs": [
    {
     "name": "stdout",
     "output_type": "stream",
     "text": [
      "../lmdb_source_data/\n"
     ]
    }
   ],
   "source": [
    "import numpy as np\n",
    "import pandas as pd\n",
    "from PIL import Image\n",
    "import matplotlib.pyplot as plt\n",
    "import os\n",
    "#********数据集的设置********\n",
    "root ='../lmdb_source_data/'#数据集的地址\n",
    "print(root)\n",
    "\n",
    "txt = root+'depth2_list2.txt'#depth2_list2，有1100个数据 depth2_list，有1104个数据\n",
    "x,y=[],[]\n",
    "fh = open(txt,'r')\n",
    "for line in fh: \n",
    "    line = line.strip('\\n')\n",
    "    line = line.rstrip('\\n')\n",
    "    words = line.split()\n",
    "    x.append(words[0])\n",
    "    y.append(int(words[1]))"
   ]
  },
  {
   "cell_type": "code",
   "execution_count": 20,
   "metadata": {},
   "outputs": [
    {
     "data": {
      "image/png": "[encoded data removed]",
      "text/plain": [
       "<Figure size 432x288 with 1 Axes>"
      ]
     },
     "metadata": {
      "needs_background": "light"
     },
     "output_type": "display_data"
    },
    {
     "name": "stdout",
     "output_type": "stream",
     "text": [
      "[[47 47 47 ... 92 92 92]\n",
      " [46 47 47 ... 92 92 92]\n",
      " [46 46 47 ... 91 91 91]\n",
      " ...\n",
      " [31 31 31 ... 31 31 31]\n",
      " [30 30 30 ... 30 30 30]\n",
      " [30 30 29 ... 29 29 29]]\n"
     ]
    }
   ],
   "source": [
    "import cv2\n",
    "img = cv2.imread(root + 'depth2/' +x[0],-1)\n",
    "plt.imshow(img[50:100,:40])\n",
    "plt.show()\n",
    "print img[50:100,:40]"
   ]
  },
  {
   "cell_type": "markdown",
   "metadata": {},
   "source": [
    "结果显示 距离越近 数值越小 颜色越黑\n",
    "反之    距离越远 数值越大 颜色越亮"
   ]
  },
  {
   "cell_type": "code",
   "execution_count": 26,
   "metadata": {},
   "outputs": [
    {
     "name": "stdout",
     "output_type": "stream",
     "text": [
      "251 0\n"
     ]
    }
   ],
   "source": [
    "max_ = 0\n",
    "min_ = 0\n",
    "for x_ in x:\n",
    "    img = cv2.imread(root + 'depth2/' +x_,-1)\n",
    "    if img.max() >= max_:\n",
    "        max_ = img.max()\n",
    "print max_,min_"
   ]
  },
  {
   "cell_type": "markdown",
   "metadata": {},
   "source": [
    "tensor([[nan, nan, nan, nan, nan]], grad_fn=<ReluBackward1>)\n",
    "tensor([[[[   nan,    nan,    nan,  ..., 1.3549, 1.3500, 1.3452],\n",
    "          [1.3404, 1.3357, 1.3310,  ...,    nan,    nan,    nan],\n",
    "          [   nan,    nan,    nan,  ...,    nan,    nan,    nan],\n",
    "          ...,\n",
    "          [   nan,    nan,    nan,  ...,    nan,    nan,    nan],\n",
    "          [   nan,    nan,    nan,  ...,    nan,    nan,    nan],\n",
    "          [   nan,    nan,    nan,  ...,    nan,    nan,    nan]]]])\n",
    "tensor([[nan, nan, nan, nan, nan]], grad_fn=<ReluBackward1>)\n",
    "tensor([[[[   nan,    nan,    nan,  ..., 1.3551, 1.3503, 1.3455],\n",
    "          [1.3407, 1.3359, 1.3312,  ...,    nan,    nan,    nan],\n",
    "          [   nan,    nan,    nan,  ...,    nan,    nan,    nan],\n",
    "          ...,\n",
    "          [   nan,    nan,    nan,  ...,    nan,    nan,    nan],\n",
    "          [   nan,    nan,    nan,  ...,    nan,    nan,    nan],\n",
    "          [   nan,    nan,    nan,  ...,    nan,    nan,    nan]]]])\n",
    "tensor([[nan, nan, nan, nan, nan]], grad_fn=<ReluBackward1>)\n",
    "tensor([[[[   nan,    nan,    nan,  ..., 1.3547, 1.3499, 1.3451],\n",
    "          [1.3403, 1.3356, 1.3309,  ...,    nan,    nan,    nan],\n",
    "          [   nan,    nan,    nan,  ...,    nan,    nan,    nan],\n",
    "          ...,\n",
    "          [   nan,    nan,    nan,  ...,    nan,    nan,    nan],\n",
    "          [   nan,    nan,    nan,  ...,    nan,    nan,    nan],\n",
    "          [   nan,    nan,    nan,  ...,    nan,    nan,    nan]]]])\n",
    "tensor([[nan, nan, nan, nan, nan]], grad_fn=<ReluBackward1>)\n",
    "tensor([[[[   nan,    nan,    nan,  ..., 1.3553, 1.3504, 1.3456],\n",
    "          [1.3408, 1.3361, 1.3314,  ...,    nan,    nan,    nan],\n",
    "          [   nan,    nan,    nan,  ...,    nan,    nan,    nan],\n",
    "          ...,\n",
    "          [   nan,    nan,    nan,  ...,    nan,    nan,    nan],\n",
    "          [   nan,    nan,    nan,  ...,    nan,    nan,    nan],\n",
    "          [   nan,    nan,    nan,  ...,    nan,    nan,    nan]]]])\n",
    "tensor([[nan, nan, nan, nan, nan]], grad_fn=<ReluBackward1>)\n",
    "tensor([[[[   nan,    nan,    nan,  ..., 1.3544, 1.3495, 1.3447],\n",
    "          [1.3400, 1.3352, 1.3305,  ...,    nan,    nan,    nan],\n",
    "          [   nan,    nan,    nan,  ...,    nan,    nan,    nan],\n",
    "          ...,\n",
    "          [   nan,    nan,    nan,  ...,    nan,    nan,    nan],\n",
    "          [   nan,    nan,    nan,  ...,    nan,    nan,    nan],\n",
    "          [   nan,    nan,    nan,  ...,    nan,    nan,    nan]]]])\n",
    "tensor([[nan, nan, nan, nan, nan]], grad_fn=<ReluBackward1>)\n",
    "tensor([[[[   nan,    nan,    nan,  ..., 1.3547, 1.3498, 1.3450],\n",
    "          [1.3402, 1.3355, 1.3308,  ...,    nan,    nan,    nan],\n",
    "          [   nan,    nan,    nan,  ...,    nan,    nan,    nan],\n",
    "          ...,\n",
    "          [   nan,    nan,    nan,  ...,    nan,    nan,    nan],\n",
    "          [   nan,    nan,    nan,  ...,    nan,    nan,    nan],\n",
    "          [   nan,    nan,    nan,  ...,    nan,    nan,    nan]]]])\n",
    "tensor([[nan, nan, nan, nan, nan]], grad_fn=<ReluBackward1>)\n",
    "tensor([[[[   nan,    nan,    nan,  ..., 1.3550, 1.3501, 1.3453],\n",
    "          [1.3405, 1.3358, 1.3311,  ...,    nan,    nan,    nan],\n",
    "          [   nan,    nan,    nan,  ...,    nan,    nan,    nan],\n",
    "          ...,\n",
    "          [   nan,    nan,    nan,  ...,    nan,    nan,    nan],\n",
    "          [   nan,    nan,    nan,  ...,    nan,    nan,    nan],\n",
    "          [   nan,    nan,    nan,  ...,    nan,    nan,    nan]]]])\n"
   ]
  }
 ],
 "metadata": {
  "kernelspec": {
   "display_name": "Python 2",
   "language": "python",
   "name": "python2"
  },
  "language_info": {
   "codemirror_mode": {
    "name": "ipython",
    "version": 2
   },
   "file_extension": ".py",
   "mimetype": "text/x-python",
   "name": "python",
   "nbconvert_exporter": "python",
   "pygments_lexer": "ipython2",
   "version": "2.7.16"
  }
 },
 "nbformat": 4,
 "nbformat_minor": 2
}
