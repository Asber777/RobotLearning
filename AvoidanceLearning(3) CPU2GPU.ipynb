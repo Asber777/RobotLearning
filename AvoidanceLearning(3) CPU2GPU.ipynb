{
 "cells": [
  {
   "cell_type": "markdown",
   "metadata": {},
   "source": [
    "这一次的修改主要有：   \n",
    "（1）不分测试集    \n",
    "（2）加入dropout    \n",
    "（3）CPU2GPU      \n",
    "CPU2GPU's     \n",
    "reference:https://blog.csdn.net/qazwsxrx/article/details/89197067"
   ]
  },
  {
   "cell_type": "code",
   "execution_count": 1,
   "metadata": {},
   "outputs": [
    {
     "data": {
      "text/plain": [
       "'1.1.0'"
      ]
     },
     "execution_count": 1,
     "metadata": {},
     "output_type": "execute_result"
    }
   ],
   "source": [
    "import torch\n",
    "import torch.optim\n",
    "import torch.nn as nn\n",
    "from torch.autograd import Variable\n",
    "from torch.utils.data import TensorDataset,DataLoader\n",
    "from sklearn.model_selection import train_test_split\n",
    "import numpy as np\n",
    "import pandas as pd\n",
    "from PIL import Image\n",
    "import matplotlib.pyplot as plt\n",
    "# 按照《Pytorch学习（三）定义自己的数据集及加载训练》：https://blog.csdn.net/sinat_42239797/article/details/90641659#commentBox\n",
    "import torch.nn.functional as F\n",
    "from torch.autograd import Variable\n",
    "import torchvision.models as models\n",
    "from torchvision import transforms, utils\n",
    "from torch.utils.data import Dataset, DataLoader\n",
    "import torch.optim as optim\n",
    "import os\n",
    "#读取数据\n",
    "device = torch.device(\"cuda:0\" if torch.cuda.is_available() else \"cpu\")\n",
    "torch.__version__"
   ]
  },
  {
   "cell_type": "code",
   "execution_count": 2,
   "metadata": {},
   "outputs": [
    {
     "name": "stdout",
     "output_type": "stream",
     "text": [
      "True\n",
      "1\n"
     ]
    }
   ],
   "source": [
    "print torch.cuda.is_available() # 是否有已经配置好可以使用的GPU (若True则有)\n",
    "print torch.cuda.device_count() # 可用GPU块数"
   ]
  },
  {
   "cell_type": "code",
   "execution_count": 3,
   "metadata": {},
   "outputs": [
    {
     "name": "stdout",
     "output_type": "stream",
     "text": [
      "/home/asber/Documents/RobotLearning/lmdb_source_data/\n"
     ]
    }
   ],
   "source": [
    "#********数据集的设置********\n",
    "root =os.getcwd()+ '/lmdb_source_data/'#数据集的地址\n",
    "print(root)\n",
    "\n",
    "txt = root+'depth2_list2.txt'#depth2_list2，有1100个数据 depth2_list，有1104个数据\n",
    "x,y=[],[]\n",
    "fh = open(txt,'r')\n",
    "for line in fh: \n",
    "    line = line.strip('\\n')\n",
    "    line = line.rstrip('\\n')\n",
    "    words = line.split()\n",
    "    x.append(words[0])\n",
    "    y.append(int(words[1]))"
   ]
  },
  {
   "cell_type": "code",
   "execution_count": 4,
   "metadata": {},
   "outputs": [],
   "source": [
    "def default_loader(path):\n",
    "        return Image.open(path)# 如果是我们的depth map 图片格式是L——灰度图。\n",
    "    \n",
    "class MyDataset(Dataset): \n",
    "#创建自己的类： MyDataset,这个类是继承的torch.utils.data.Dataset\n",
    "     def __init__(self,x,y, transform=None,target_transform=None, loader=default_loader):\n",
    "        super(MyDataset,self).__init__()#对继承自父类的属性进行初始化\n",
    "        self.x = x\n",
    "        self.y = y\n",
    "        self.transform = transform\n",
    "        self.target_transform = target_transform\n",
    "        self.loader = loader\n",
    "        #*************************** #使用__getitem__()对数据进行预处理并返回想要的信息**********************\n",
    "     def __getitem__(self, index):#这个方法是必须要有的，用于按照索引读取每个元素的具体内容\n",
    "            fn, label = self.x[index],self.y[index]\n",
    "            img = self.loader(root+'depth2/'+fn)# 按照路径读取图片\n",
    "            if self.transform is not None:\n",
    "                img = self.transform(img)#数据标签转换为Tensor\n",
    "            return img,label#return回哪些内容，那么我们在训练时循环读取每个batch时，就能获得哪些内容\n",
    "     def __len__(self):#这个函数也必须要写，它返回的是数据集的长度，也就是多少张图片，要和loader的长度作区分\n",
    "            return len(self.x)"
   ]
  },
  {
   "cell_type": "code",
   "execution_count": 5,
   "metadata": {},
   "outputs": [
    {
     "name": "stdout",
     "output_type": "stream",
     "text": [
      "1100\n"
     ]
    }
   ],
   "source": [
    "data=MyDataset(x=x,y=y, transform=transforms.ToTensor())\n",
    "data_loader = DataLoader(dataset=data,\\\n",
    "                         batch_size=10,shuffle=True,num_workers=1)\n",
    "print len(data)"
   ]
  },
  {
   "cell_type": "code",
   "execution_count": 6,
   "metadata": {},
   "outputs": [],
   "source": [
    "class CNN(nn.Module):\n",
    "    def __init__(self):\n",
    "        super(CNN, self).__init__()\n",
    "        self.layers1 = nn.Sequential(\n",
    "            nn.Conv2d(1,32,kernel_size=5,stride=1,padding=2),#1代表1个通道 32代表kernel数，kernelsize代表大小\n",
    "            nn.BatchNorm2d(32),\n",
    "            nn.ReLU(inplace=True),\n",
    "            nn.MaxPool2d(kernel_size=2,stride=2)\n",
    "        )\n",
    "        self.layers2 = nn.Sequential(\n",
    "            nn.Conv2d(32,32,kernel_size=5,stride=1,padding=2),\n",
    "            nn.BatchNorm2d(32),\n",
    "            nn.ReLU(inplace=True),\n",
    "            nn.MaxPool2d(kernel_size=2,stride=2)\n",
    "        )\n",
    "        self.layers3 = nn.Sequential(\n",
    "            nn.Conv2d(32,64,kernel_size=5,stride=1,padding=2),\n",
    "            nn.BatchNorm2d(64),\n",
    "            nn.MaxPool2d(kernel_size=2,stride=2)\n",
    "        )\n",
    "        self.fc = nn.Sequential(\n",
    "            nn.Linear(20*15*64,300),\n",
    "            nn.ReLU(inplace=True),\n",
    "            nn.Linear(300,5),\n",
    "            nn.ReLU(inplace=True),\n",
    "        )\n",
    "    def forward(self, x):\n",
    "        x = self.layers1(x)\n",
    "        x = self.layers2(x)\n",
    "        x = self.layers3(x)\n",
    "        x = x.view(x.size(0),-1)\n",
    "        x = self.fc(x)\n",
    "        return x"
   ]
  },
  {
   "cell_type": "code",
   "execution_count": 7,
   "metadata": {},
   "outputs": [
    {
     "data": {
      "text/plain": [
       "CNN(\n",
       "  (layers1): Sequential(\n",
       "    (0): Conv2d(1, 32, kernel_size=(5, 5), stride=(1, 1), padding=(2, 2))\n",
       "    (1): BatchNorm2d(32, eps=1e-05, momentum=0.1, affine=True, track_running_stats=True)\n",
       "    (2): ReLU(inplace)\n",
       "    (3): MaxPool2d(kernel_size=2, stride=2, padding=0, dilation=1, ceil_mode=False)\n",
       "  )\n",
       "  (layers2): Sequential(\n",
       "    (0): Conv2d(32, 32, kernel_size=(5, 5), stride=(1, 1), padding=(2, 2))\n",
       "    (1): BatchNorm2d(32, eps=1e-05, momentum=0.1, affine=True, track_running_stats=True)\n",
       "    (2): ReLU(inplace)\n",
       "    (3): MaxPool2d(kernel_size=2, stride=2, padding=0, dilation=1, ceil_mode=False)\n",
       "  )\n",
       "  (layers3): Sequential(\n",
       "    (0): Conv2d(32, 64, kernel_size=(5, 5), stride=(1, 1), padding=(2, 2))\n",
       "    (1): BatchNorm2d(64, eps=1e-05, momentum=0.1, affine=True, track_running_stats=True)\n",
       "    (2): MaxPool2d(kernel_size=2, stride=2, padding=0, dilation=1, ceil_mode=False)\n",
       "  )\n",
       "  (fc): Sequential(\n",
       "    (0): Linear(in_features=19200, out_features=300, bias=True)\n",
       "    (1): ReLU(inplace)\n",
       "    (2): Linear(in_features=300, out_features=5, bias=True)\n",
       "    (3): ReLU(inplace)\n",
       "  )\n",
       ")"
      ]
     },
     "execution_count": 7,
     "metadata": {},
     "output_type": "execute_result"
    }
   ],
   "source": [
    "cnn = CNN()\n",
    "error = nn.CrossEntropyLoss()\n",
    "optimizer = torch.optim.SGD(cnn.parameters(),lr=0.0001)\n",
    "cnn.cuda()"
   ]
  },
  {
   "cell_type": "code",
   "execution_count": 10,
   "metadata": {},
   "outputs": [
    {
     "name": "stdout",
     "output_type": "stream",
     "text": [
      "('accuracy:', 0.8072727272727273)\n",
      "('accuracy:', 0.8018181818181818)\n",
      "('accuracy:', 0.8163636363636364)\n",
      "('accuracy:', 0.8163636363636364)\n",
      "('accuracy:', 0.8172727272727273)\n",
      "('accuracy:', 0.8163636363636364)\n",
      "('accuracy:', 0.81)\n",
      "('accuracy:', 0.8190909090909091)\n",
      "('accuracy:', 0.8263636363636364)\n",
      "('accuracy:', 0.8218181818181818)\n",
      "('accuracy:', 0.8354545454545454)\n",
      "('accuracy:', 0.8172727272727273)\n",
      "('accuracy:', 0.8245454545454546)\n",
      "('accuracy:', 0.8363636363636363)\n",
      "('accuracy:', 0.8218181818181818)\n",
      "('accuracy:', 0.8290909090909091)\n",
      "('accuracy:', 0.8345454545454546)\n",
      "('accuracy:', 0.8245454545454546)\n",
      "('accuracy:', 0.8236363636363636)\n",
      "('accuracy:', 0.8336363636363636)\n",
      "('accuracy:', 0.8372727272727273)\n",
      "('accuracy:', 0.8381818181818181)\n",
      "('accuracy:', 0.8354545454545454)\n",
      "('accuracy:', 0.8372727272727273)\n",
      "('accuracy:', 0.8454545454545455)\n",
      "('accuracy:', 0.8409090909090909)\n",
      "('accuracy:', 0.8427272727272728)\n",
      "('accuracy:', 0.8445454545454546)\n",
      "('accuracy:', 0.8472727272727273)\n",
      "('accuracy:', 0.8390909090909091)\n",
      "('accuracy:', 0.8490909090909091)\n",
      "('accuracy:', 0.8454545454545455)\n",
      "('accuracy:', 0.8427272727272728)\n",
      "('accuracy:', 0.8536363636363636)\n",
      "('accuracy:', 0.8527272727272728)\n",
      "('accuracy:', 0.8481818181818181)\n",
      "('accuracy:', 0.8481818181818181)\n",
      "('accuracy:', 0.8581818181818182)\n",
      "('accuracy:', 0.8527272727272728)\n",
      "('accuracy:', 0.8572727272727273)\n",
      "('accuracy:', 0.8581818181818182)\n",
      "('accuracy:', 0.8627272727272727)\n"
     ]
    }
   ],
   "source": [
    "data_num = float(len(data))\n",
    "accuracy_list = []\n",
    "for epochs in range(300):\n",
    "    for i ,(img,label) in enumerate(data_loader):\n",
    "        img = img.view(10,1,160,120)\n",
    "        img = Variable(img).float().cuda()\n",
    "        label = Variable(label).type(torch.LongTensor).cuda()\n",
    "        optimizer.zero_grad()\n",
    "        output = cnn(img)\n",
    "        loss = error(output,label)\n",
    "        loss.backward()\n",
    "        optimizer.step()\n",
    "    accuracy = 0\n",
    "    for i ,(img,label) in enumerate(data_loader):\n",
    "        img = img.view(10,1,160,120)\n",
    "        img = Variable(img).float().cuda()\n",
    "        out = cnn(img)\n",
    "        pre = torch.max(out.data,1)[1]\n",
    "        accuracy += (pre == Variable(label).type(torch.LongTensor).cuda()).sum()\n",
    "    print('accuracy:',accuracy.item()/data_num)\n",
    "    accuracy_list.append(accuracy.item()/data_num)\n",
    "    if(accuracy.item()/data_num>0.81):\n",
    "        torch.save(cnn.state_dict(),'./abcd.pth')\n",
    "    if(accuracy.item()/data_num >= 0.86):\n",
    "        break"
   ]
  },
  {
   "cell_type": "markdown",
   "metadata": {},
   "source": [
    "Expected object of backend CUDA but got backend CPU for argument #2 'other'\n",
    "代表在 accuracy += (pre == y).sum()的时候有一个变量其"
   ]
  },
  {
   "cell_type": "code",
   "execution_count": 11,
   "metadata": {},
   "outputs": [
    {
     "data": {
      "image/png": "[encoded data removed]",
      "text/plain": [
       "<Figure size 432x288 with 1 Axes>"
      ]
     },
     "metadata": {
      "needs_background": "light"
     },
     "output_type": "display_data"
    }
   ],
   "source": [
    "import matplotlib.pyplot as plt\n",
    "%matplotlib inline\n",
    "plt.plot(accuracy_list)\n",
    "plt.show()"
   ]
  },
  {
   "cell_type": "markdown",
   "metadata": {},
   "source": [
    "现在没有dropout，虽然测试集和训练集重合了，\n",
    "但是拟合的还不错，的确是算力不够的问题，\n",
    "现在把模型加载然后在gazebo中仿真。"
   ]
  }
 ],
 "metadata": {
  "kernelspec": {
   "display_name": "Python 2",
   "language": "python",
   "name": "python2"
  },
  "language_info": {
   "codemirror_mode": {
    "name": "ipython",
    "version": 2
   },
   "file_extension": ".py",
   "mimetype": "text/x-python",
   "name": "python",
   "nbconvert_exporter": "python",
   "pygments_lexer": "ipython2",
   "version": "2.7.16"
  }
 },
 "nbformat": 4,
 "nbformat_minor": 2
}
