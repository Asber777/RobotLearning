{
 "cells": [
  {
   "cell_type": "code",
   "execution_count": 13,
   "metadata": {},
   "outputs": [],
   "source": [
    "import torch\n",
    "from torch.utils.data import Dataset, DataLoader\n",
    "data = [i for i in range(80)]\n",
    "\n",
    "class MyDataset(Dataset): \n",
    "#创建自己的类： MyDataset,这个类是继承的torch.utils.data.Dataset\n",
    "     def __init__(self,data):\n",
    "        super(MyDataset,self).__init__()#对继承自父类的属性进行初始化\n",
    "        self.data = data \n",
    "        \n",
    "     def __getitem__(self, index):\n",
    "            return self.data[index]\n",
    "     def __len__(self):\n",
    "            return len(self.data)"
   ]
  },
  {
   "cell_type": "code",
   "execution_count": 14,
   "metadata": {},
   "outputs": [
    {
     "name": "stdout",
     "output_type": "stream",
     "text": [
      "80\n",
      "tensor([0, 1, 2, 3, 4, 5, 6, 7, 8, 9])\n",
      "----\n",
      "tensor([10, 11, 12, 13, 14, 15, 16, 17, 18, 19])\n",
      "----\n",
      "tensor([20, 21, 22, 23, 24, 25, 26, 27, 28, 29])\n",
      "----\n",
      "tensor([30, 31, 32, 33, 34, 35, 36, 37, 38, 39])\n",
      "----\n",
      "tensor([40, 41, 42, 43, 44, 45, 46, 47, 48, 49])\n",
      "----\n",
      "tensor([50, 51, 52, 53, 54, 55, 56, 57, 58, 59])\n",
      "----\n",
      "tensor([60, 61, 62, 63, 64, 65, 66, 67, 68, 69])\n",
      "----\n",
      "tensor([70, 71, 72, 73, 74, 75, 76, 77, 78, 79])\n",
      "----\n"
     ]
    }
   ],
   "source": [
    "mydataset = MyDataset(data)\n",
    "print len(mydataset)\n",
    "Order_dataloader = DataLoader(dataset=mydataset,batch_size=10,shuffle=False,num_workers=1)\n",
    "for i, data in enumerate(Order_dataloader):\n",
    "    print(data)\n",
    "    print '----'"
   ]
  },
  {
   "cell_type": "code",
   "execution_count": 16,
   "metadata": {},
   "outputs": [
    {
     "name": "stdout",
     "output_type": "stream",
     "text": [
      "80\n",
      "tensor([64, 41, 44, 22, 53, 60, 55,  8, 54, 47])\n",
      "----\n",
      "tensor([17, 37, 69, 48, 10, 57, 63, 46, 42, 18])\n",
      "----\n",
      "tensor([38, 77, 27, 29,  5, 13, 74,  0, 78, 40])\n",
      "----\n",
      "tensor([ 3,  2, 76, 45, 79, 25, 56, 72, 58, 24])\n",
      "----\n",
      "tensor([66, 67,  9, 30, 26, 71, 52, 28, 70,  6])\n",
      "----\n",
      "tensor([19, 21, 36, 73, 14, 11,  1, 62, 75, 15])\n",
      "----\n",
      "tensor([35, 33, 34, 68, 51, 49, 20,  4, 12, 61])\n",
      "----\n",
      "tensor([ 7, 16, 31, 65, 32, 39, 43, 59, 50, 23])\n",
      "----\n"
     ]
    }
   ],
   "source": [
    "print len(mydataset)\n",
    "Inorder_dataloader = DataLoader(dataset=mydataset,batch_size=10,shuffle=True,num_workers=1)\n",
    "for i, data in enumerate(Inorder_dataloader):\n",
    "    print(data)\n",
    "    print '----'"
   ]
  },
  {
   "cell_type": "code",
   "execution_count": 17,
   "metadata": {},
   "outputs": [
    {
     "name": "stdout",
     "output_type": "stream",
     "text": [
      "80\n",
      "tensor([63, 41, 17, 67, 79, 44, 61, 14, 47, 50])\n",
      "----\n",
      "tensor([72, 54,  1, 66, 64, 55,  9, 76,  3, 73])\n",
      "----\n",
      "tensor([42, 30, 16, 56,  8, 46, 19,  2, 28, 57])\n",
      "----\n",
      "tensor([51, 68, 23, 15,  0, 49, 69, 25, 29, 38])\n",
      "----\n",
      "tensor([40,  6, 70, 58, 32, 77, 62, 13, 10, 35])\n",
      "----\n",
      "tensor([65, 48,  7,  5, 45, 59, 71, 78, 75, 26])\n",
      "----\n",
      "tensor([22, 11, 34, 39, 24, 27,  4, 20, 21, 33])\n",
      "----\n",
      "tensor([43, 31, 12, 60, 52, 36, 74, 18, 53, 37])\n",
      "----\n"
     ]
    }
   ],
   "source": [
    "print len(mydataset)\n",
    "Inorder_dataloader = DataLoader(dataset=mydataset,batch_size=10,shuffle=True,num_workers=1)\n",
    "for i, data in enumerate(Inorder_dataloader):\n",
    "    print(data)\n",
    "    print '----'"
   ]
  },
  {
   "cell_type": "code",
   "execution_count": null,
   "metadata": {},
   "outputs": [],
   "source": []
  }
 ],
 "metadata": {
  "kernelspec": {
   "display_name": "Python 2",
   "language": "python",
   "name": "python2"
  },
  "language_info": {
   "codemirror_mode": {
    "name": "ipython",
    "version": 2
   },
   "file_extension": ".py",
   "mimetype": "text/x-python",
   "name": "python",
   "nbconvert_exporter": "python",
   "pygments_lexer": "ipython2",
   "version": "2.7.16"
  }
 },
 "nbformat": 4,
 "nbformat_minor": 2
}
